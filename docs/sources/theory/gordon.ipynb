{
 "cells": [
  {
   "cell_type": "markdown",
   "metadata": {},
   "source": [
    "# Interpolation of a biderectional curve network"
   ]
  },
  {
   "cell_type": "code",
   "execution_count": null,
   "metadata": {},
   "outputs": [],
   "source": [
    "from pygbs import gbs\n",
    "import numpy as np\n",
    "from math import radians, cos"
   ]
  },
  {
   "cell_type": "code",
   "execution_count": null,
   "metadata": {},
   "outputs": [],
   "source": [
    "p = 5\n",
    "\n",
    "# crv_2d = gbs.bscurve2d_approx_from_points(\"../../../tests/in/e1098.dat\",p,gbs.KnotsCalcMode.CHORD_LENGTH,1)\n",
    "crv_2d = gbs.bscurve2d_approx_from_points(\"../../../tests/in/e186.dat\",p,gbs.KnotsCalcMode.CHORD_LENGTH,1)\n",
    "\n",
    "nv = 5\n",
    "r1 = 0.3\n",
    "r2 = 1.\n",
    "r  = np.linspace( r1, r2, nv)\n",
    "v = np.linspace(0., r2-r1, nv)\n",
    "g  = np.linspace(radians(15), radians(50), nv)\n",
    "cax= 0.3\n",
    "l  = np.linspace( 0, 0.3 * cax, nv)\n",
    "b  = np.linspace( 0, 0.2 * cax, nv)\n",
    "c  = np.array(list(map(lambda g_ : cax * cos(g_), g)))\n",
    "\n",
    "def make_3d_foil(params):\n",
    "    r_, g_, c_, l_, b_ = params\n",
    "    crv_2d_ = gbs.BSCurve2d(crv_2d)\n",
    "    gbs.translate(crv_2d_,[-0.5,0.])\n",
    "    gbs.rotate(crv_2d_, g_)\n",
    "    gbs.scale(crv_2d_, c_)\n",
    "    gbs.translate(crv_2d_,[b_,l_])\n",
    "    gbs.translate(crv_2d_,[0.5,0.])\n",
    "    return gbs.to_bscurve_3d(crv_2d_, r_)\n",
    "    \n",
    "    \n",
    "foils = list(map(make_3d_foil, zip(r, g, c, l, b)))\n",
    "\n",
    "u1, u2 = crv_2d.bounds()\n",
    "nu = 11\n",
    "u = np.linspace(u1, u2,nu)\n",
    "q = 3\n",
    "\n",
    "def make_span_curve(u_):\n",
    "    pts = [ foil(u_) for foil in foils]\n",
    "    begin =( v[0], pts[0] )\n",
    "    end =( v[-1], pts[-1] )\n",
    "    contraints = [(v_, pt, 0) for v_, pt in zip(v[1:-1], pts[1:-1])]\n",
    "    contraints.append( (0., [0,0,1], 1) )\n",
    "    return gbs.interpolate(begin, end, contraints, q)\n",
    "\n",
    "spans = list(map(make_span_curve, u))\n"
   ]
  },
  {
   "cell_type": "code",
   "execution_count": null,
   "metadata": {},
   "outputs": [],
   "source": [
    "import pyvista as pv\n",
    "from pygbs import vistaplot as gbv\n",
    "\n",
    "# Initialize the PyVista plotter\n",
    "plotter = pv.Plotter()\n",
    "\n",
    "# Add the defined curves to the plotter for visualization\n",
    "gbv.add_curves_to_plotter(foils+spans, plotter)\n",
    "\n",
    "# Display the plot with the curves\n",
    "plotter.show()"
   ]
  },
  {
   "cell_type": "code",
   "execution_count": null,
   "metadata": {},
   "outputs": [],
   "source": []
  },
  {
   "cell_type": "code",
   "execution_count": null,
   "metadata": {},
   "outputs": [],
   "source": [
    "Lu = gbs.loftbs(foils, v, q)\n",
    "\n",
    "plotter = pv.Plotter()\n",
    "gbv.add_curves_to_plotter(foils, plotter)\n",
    "gbv.add_surfaces_to_plotter([Lu], plotter, nu = 300, )\n",
    "plotter.show()"
   ]
  },
  {
   "cell_type": "code",
   "execution_count": null,
   "metadata": {},
   "outputs": [],
   "source": [
    "Lv = gbs.loftbs(spans, u, p)\n",
    "Lv.invertUV()\n",
    "\n",
    "plotter = pv.Plotter()\n",
    "gbv.add_surfaces_to_plotter([Lv], plotter, nu = 300, )\n",
    "gbv.add_curves_to_plotter(spans, plotter)\n",
    "plotter.show()"
   ]
  },
  {
   "cell_type": "code",
   "execution_count": null,
   "metadata": {},
   "outputs": [],
   "source": [
    "# This Uniformization works because we are dealing with simple multiplicities\n",
    "for u_ in Lu.knotsFlatsU():\n",
    "    if u_ not in Lv.knotsFlatsU():\n",
    "        Lv.insertKnotU(u_)\n",
    "for v_ in Lu.knotsFlatsV():\n",
    "    if v_ not in Lv.knotsFlatsV():\n",
    "        Lv.insertKnotV(v_)   \n",
    "\n",
    "for u_ in Lv.knotsFlatsU():\n",
    "    if u_ not in Lu.knotsFlatsU():\n",
    "        Lu.insertKnotU(u_)\n",
    "for v_ in Lv.knotsFlatsV():\n",
    "    if v_ not in Lu.knotsFlatsV():\n",
    "        Lu.insertKnotV(v_)  \n",
    "\n",
    "\n",
    "from pytest import approx\n",
    "\n",
    "for u1_, u2_ in zip(Lu.knotsFlatsU(), Lv.knotsFlatsU()):\n",
    "    assert u1_ == approx( u2_ ), f'{u1_=}, {u2_=}'\n",
    "for v1_, v2_ in zip(Lu.knotsFlatsV(), Lv.knotsFlatsV()):\n",
    "    assert v1_ == approx( v2_ ), f'{v1_=}, {v2_=}'\n",
    "\n"
   ]
  },
  {
   "cell_type": "code",
   "execution_count": null,
   "metadata": {},
   "outputs": [],
   "source": [
    "plotter = pv.Plotter()\n",
    "gbv.add_curves_to_plotter(foils, plotter)\n",
    "gbv.add_surfaces_to_plotter([Lu], plotter, nu = 300, )\n",
    "plotter.show()\n"
   ]
  },
  {
   "cell_type": "code",
   "execution_count": null,
   "metadata": {},
   "outputs": [],
   "source": [
    "plotter = pv.Plotter()\n",
    "gbv.add_curves_to_plotter(spans, plotter)\n",
    "gbv.add_surfaces_to_plotter([Lv], plotter, nu = 300, )\n",
    "plotter.show()"
   ]
  },
  {
   "cell_type": "code",
   "execution_count": null,
   "metadata": {},
   "outputs": [],
   "source": []
  },
  {
   "cell_type": "code",
   "execution_count": null,
   "metadata": {},
   "outputs": [],
   "source": [
    "pts = np.array([ [ foil(u_) for u_ in u] for foil in foils ])\n",
    "pts = pts.reshape((len(u)*len(v), 3))\n",
    "\n",
    "flat_u =  gbs.build_simple_mult_flat_knots(u, p)\n",
    "flat_v =  gbs.build_simple_mult_flat_knots(v, q)\n",
    "\n",
    "poles = gbs.build_poles(pts, flat_u, flat_v, u, v, p, q)\n",
    "T = gbs.BSSurface3d(poles, flat_u, flat_v, p, q)\n",
    "\n",
    "pts = pts.reshape((len(v),len(u), 3))\n",
    "for j, v_ in enumerate(v):\n",
    "    for i, u_ in enumerate(u):\n",
    "        assert T(u_, v_) == approx( pts[j][i] )\n",
    "\n",
    "\n",
    "# This Uniformization works because we are dealing with simple multiplicities\n",
    "for u_ in Lu.knotsFlatsU():\n",
    "    if u_ not in T.knotsFlatsU():\n",
    "        T.insertKnotU(u_)\n",
    "for v_ in Lu.knotsFlatsV():\n",
    "    if v_ not in T.knotsFlatsV():\n",
    "        T.insertKnotV(v_)   \n",
    "\n",
    "for u_ in Lv.knotsFlatsU():\n",
    "    if u_ not in T.knotsFlatsU():\n",
    "        T.insertKnotU(u_)\n",
    "for v_ in Lv.knotsFlatsV():\n",
    "    if v_ not in T.knotsFlatsV():\n",
    "        T.insertKnotV(v_)  \n",
    "\n",
    "\n",
    "for u_ in T.knotsFlatsU():\n",
    "    if u_ not in Lu.knotsFlatsU():\n",
    "        Lu.insertKnotU(u_)\n",
    "for v_ in T.knotsFlatsV():\n",
    "    if v_ not in Lu.knotsFlatsV():\n",
    "        Lu.insertKnotV(v_)   \n",
    "\n",
    "for u_ in T.knotsFlatsU():\n",
    "    if u_ not in Lv.knotsFlatsU():\n",
    "        Lv.insertKnotU(u_)\n",
    "for v_ in T.knotsFlatsV():\n",
    "    if v_ not in Lv.knotsFlatsV():\n",
    "        Lv.insertKnotV(v_)   \n",
    "\n",
    "for u1_, u2_, u3_ in zip(Lu.knotsFlatsU(), Lv.knotsFlatsU(), T.knotsFlatsU()):\n",
    "    assert u1_ == approx( u2_ ), f'{u1_=}, {u2_=}'\n",
    "    assert u1_ == approx( u3_ ), f'{u1_=}, {u3_=}'\n",
    "for v1_, v2_, v3_ in zip(Lu.knotsFlatsV(), Lv.knotsFlatsV(), T.knotsFlatsV()):\n",
    "    assert v1_ == approx( v2_ ), f'{v1_=}, {v2_=}'\n",
    "    assert v1_ == approx( v3_ ), f'{v1_=}, {v3_=}'\n",
    "\n",
    "plotter = pv.Plotter()\n",
    "gbv.add_surfaces_to_plotter([T], plotter, nu = 300, )\n",
    "\n",
    "plotter.show()"
   ]
  },
  {
   "cell_type": "code",
   "execution_count": null,
   "metadata": {},
   "outputs": [],
   "source": [
    "poles = [ (np.array(pole_u) + np.array(pole_v) - np.array(pole_t)).tolist() for pole_u, pole_v, pole_t in zip(Lu.poles(), Lv.poles(), T.poles())  ]\n",
    "\n",
    "flat_u = Lu.knotsFlatsU()\n",
    "flat_v = Lu.knotsFlatsV()\n",
    "\n",
    "G = gbs.BSSurface3d(poles, flat_u, flat_v, p, q)\n",
    "\n",
    "plotter = pv.Plotter()\n",
    "gbv.add_surfaces_to_plotter([G], plotter, nu = 300, per=11,axis=[[0,0,0],[1,0,0]] )\n",
    "gbv.add_curves_to_plotter(foils, plotter)\n",
    "gbv.add_curves_to_plotter(spans, plotter)\n",
    "plotter.show()"
   ]
  }
 ],
 "metadata": {
  "kernelspec": {
   "display_name": "dev",
   "language": "python",
   "name": "python3"
  },
  "language_info": {
   "codemirror_mode": {
    "name": "ipython",
    "version": 3
   },
   "file_extension": ".py",
   "mimetype": "text/x-python",
   "name": "python",
   "nbconvert_exporter": "python",
   "pygments_lexer": "ipython3",
   "version": "3.10.12"
  }
 },
 "nbformat": 4,
 "nbformat_minor": 2
}
