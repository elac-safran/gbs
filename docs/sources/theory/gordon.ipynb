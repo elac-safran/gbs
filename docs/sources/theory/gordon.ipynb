{
 "cells": [
  {
   "cell_type": "markdown",
   "metadata": {},
   "source": [
    "# Interpolation of a biderectional curve network"
   ]
  },
  {
   "cell_type": "code",
   "execution_count": null,
   "metadata": {},
   "outputs": [],
   "source": [
    "from pygbs import gbs\n",
    "import numpy as np\n",
    "from math import radians, cos"
   ]
  },
  {
   "cell_type": "code",
   "execution_count": null,
   "metadata": {},
   "outputs": [],
   "source": [
    "crv_2d = gbs.bscurve2d_approx_from_points(\"../../../tests/in/e1098.dat\",3,gbs.KnotsCalcMode.CHORD_LENGTH,1)\n",
    "\n",
    "\n",
    "nv = 5\n",
    "r1 = 0.3\n",
    "r2 = 1.\n",
    "r  = np.linspace( r1, r2, nv)\n",
    "g  = np.linspace(radians(15), radians(50), nv)\n",
    "cax= 0.4\n",
    "l  = np.linspace( 0, 0.1 * cax, nv)\n",
    "c  = np.array(list(map(lambda g_ : cax * cos(g_), g)))\n",
    "\n",
    "def make_3d_foil(params):\n",
    "    r_, g_, c_, l_ = params\n",
    "    crv_2d_ = gbs.BSCurve2d(crv_2d)\n",
    "    gbs.translate(crv_2d_,[-0.5,0.])\n",
    "    gbs.rotate(crv_2d_, g_)\n",
    "    gbs.scale(crv_2d_, c_)\n",
    "    gbs.translate(crv_2d_,[0.,l_])\n",
    "    gbs.translate(crv_2d_,[0.5,0.])\n",
    "    return gbs.to_bscurve_3d(crv_2d_, r_)\n",
    "    \n",
    "    \n",
    "foils = list(map(make_3d_foil, zip(r, g, c, l)))\n"
   ]
  },
  {
   "cell_type": "code",
   "execution_count": null,
   "metadata": {},
   "outputs": [],
   "source": [
    "import pyvista as pv\n",
    "from pygbs import vistaplot as gbv\n",
    "\n",
    "# Initialize the PyVista plotter\n",
    "plotter = pv.Plotter()\n",
    "\n",
    "# Add the defined curves to the plotter for visualization\n",
    "gbv.add_curves_to_plotter(foils, plotter)\n",
    "\n",
    "# Display the plot with the curves\n",
    "plotter.show()"
   ]
  },
  {
   "cell_type": "code",
   "execution_count": null,
   "metadata": {},
   "outputs": [],
   "source": [
    "Lu = gbs.loft(foils)"
   ]
  },
  {
   "cell_type": "code",
   "execution_count": null,
   "metadata": {},
   "outputs": [],
   "source": [
    "plotter = pv.Plotter()\n",
    "gbv.add_curves_to_plotter(foils, plotter)\n",
    "gbv.add_surfaces_to_plotter([Lu], plotter, nu = 300, )\n",
    "\n",
    "plotter.show()"
   ]
  },
  {
   "cell_type": "code",
   "execution_count": null,
   "metadata": {},
   "outputs": [],
   "source": [
    "u1, u2 = crv_2d.bounds()\n",
    "nu = 7\n",
    "u = np.linspace(u1, u2,nu)\n",
    "v = np.linspace(0., r2-r1, nv)\n",
    "\n",
    "q = 3\n",
    "\n",
    "def make_span_curve(u_):\n",
    "    pts = [ foil(u_) for foil in foils]\n",
    "    begin =( v[0], pts[0] )\n",
    "    end =( v[-1], pts[-1] )\n",
    "    contraints = [(v_, pt, 0) for v_, pt in zip(v[1:-1], pts[1:-1])]\n",
    "    contraints.append( (0., [0,0,1], 1) )\n",
    "    return gbs.interpolate(begin, end, contraints, q)\n",
    "\n",
    "spans = list(map(make_span_curve, u))\n",
    "\n",
    "plotter = pv.Plotter()\n",
    "gbv.add_curves_to_plotter(foils, plotter)\n",
    "gbv.add_surfaces_to_plotter([Lu], plotter, nu = 300, )\n",
    "gbv.add_curves_to_plotter(spans, plotter)\n",
    "\n",
    "plotter.show()"
   ]
  },
  {
   "cell_type": "code",
   "execution_count": null,
   "metadata": {},
   "outputs": [],
   "source": [
    "Lv = gbs.loft(spans)\n",
    "\n",
    "plotter = pv.Plotter()\n",
    "gbv.add_curves_to_plotter(foils, plotter)\n",
    "gbv.add_surfaces_to_plotter([Lv], plotter, nu = 300, )\n",
    "gbv.add_curves_to_plotter(spans, plotter)\n",
    "\n",
    "plotter.show()"
   ]
  },
  {
   "cell_type": "code",
   "execution_count": null,
   "metadata": {},
   "outputs": [],
   "source": [
    "pts = [ [ foil(u_) for foil in foils] for u_ in u ]\n",
    "\n",
    "T = gbs.interpolate(pts)"
   ]
  }
 ],
 "metadata": {
  "kernelspec": {
   "display_name": "dev",
   "language": "python",
   "name": "python3"
  },
  "language_info": {
   "codemirror_mode": {
    "name": "ipython",
    "version": 3
   },
   "file_extension": ".py",
   "mimetype": "text/x-python",
   "name": "python",
   "nbconvert_exporter": "python",
   "pygments_lexer": "ipython3",
   "version": "3.11.5"
  }
 },
 "nbformat": 4,
 "nbformat_minor": 2
}
