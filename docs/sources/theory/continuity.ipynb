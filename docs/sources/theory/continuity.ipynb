{
 "cells": [
  {
   "cell_type": "code",
   "execution_count": null,
   "metadata": {},
   "outputs": [],
   "source": [
    "from pygbs import gbs\n",
    "from pygbs import plotlyplot as gbp\n",
    "import plotly.graph_objects as go\n",
    "\n",
    "p = 5\n",
    "filename = \"../../../tests/in/e1098.dat\"\n",
    "crv_2d = gbs.bscurve2d_approx_from_points(filename,p,gbs.KnotsCalcMode.CHORD_LENGTH,1)\n",
    "\n",
    "gbp.plot_bs_curve_2d([ crv_2d], ctrl_pts_on=True)"
   ]
  },
  {
   "cell_type": "markdown",
   "metadata": {},
   "source": [
    "## Cut leading edge"
   ]
  },
  {
   "cell_type": "code",
   "execution_count": null,
   "metadata": {},
   "outputs": [],
   "source": [
    "u1, u2 = crv_2d.bounds()\n",
    "\n",
    "u1i = 0.43*(u2-u1)\n",
    "u2i = 0.57*(u2-u1)\n",
    "\n",
    "s1 = gbs.BSCurve2d(crv_2d)\n",
    "s1.trim(u1, u1i)\n",
    "s2 = gbs.BSCurve2d(crv_2d)\n",
    "s2.trim(u2i,u2)\n",
    "\n",
    "gbp.plot_bs_curve_2d([ s1, s2])"
   ]
  },
  {
   "cell_type": "markdown",
   "metadata": {},
   "source": [
    "## Build C3 connection"
   ]
  },
  {
   "cell_type": "code",
   "execution_count": null,
   "metadata": {},
   "outputs": [],
   "source": [
    "import numpy as np\n",
    "\n",
    "ratio = 3.\n",
    "du = gbs.dist(s1(u1i), s2(u2i)) * ratio\n",
    "\n",
    "no = 3\n",
    "no = min(p-1, no)\n",
    "constraints = [(0, s1(u1i, o), o ) for o in range(1,no+1)] + [(du, s2(u2i, o), o ) for o in range(1,no+1)]\n",
    "# constraints += [(0.5*du, [0.,0.], 0)]\n",
    "\n",
    "c2_0 = gbs.interpolate(\n",
    "    ( 0, s1(u1i)),\n",
    "    (du, s2(u2i)),\n",
    "    constraints,\n",
    "    p\n",
    ")\n",
    "gbp.plot_bs_curve_2d([s1, s2, c2_0]).show()"
   ]
  },
  {
   "cell_type": "markdown",
   "metadata": {},
   "source": [
    "## Join and simplify"
   ]
  },
  {
   "cell_type": "code",
   "execution_count": null,
   "metadata": {},
   "outputs": [],
   "source": [
    "j1 = gbs.join(s1, c2_0)\n",
    "j1.removeKnot(u1i,1e-2,p-1)\n",
    "gbp.plot_bs_curve_2d([ j1, s2])"
   ]
  },
  {
   "cell_type": "code",
   "execution_count": null,
   "metadata": {},
   "outputs": [],
   "source": [
    "j2 = gbs.join(j1, s2)\n",
    "j2.removeKnot(u1i+du,1e-1,p-1)\n",
    "gbp.plot_bs_curve_2d([j2])"
   ]
  },
  {
   "cell_type": "markdown",
   "metadata": {},
   "source": [
    "## Check curvature"
   ]
  },
  {
   "cell_type": "code",
   "execution_count": null,
   "metadata": {},
   "outputs": [],
   "source": [
    "from math import sqrt\n",
    "from pytest import approx\n",
    "\n",
    "def d_dm(curve, u):\n",
    "    d1 = np.array(curve(u, 1))\n",
    "    d1d1 = gbs.dot(d1, d1)\n",
    "    return np.array(curve(u,1)) / sqrt(d1d1)\n",
    "\n",
    "def d2_dm2(curve, u):\n",
    "    d1 = np.array(curve(u, 1))\n",
    "    d2 = np.array(curve(u, 2))\n",
    "\n",
    "    d1d1 = gbs.dot(d1,d1)\n",
    "\n",
    "    d1d2 = gbs.dot(d1, d2)\n",
    "\n",
    "    return (d2 - d1 * d1d2 ) / d1d1\n",
    "\n",
    "t1 = d_dm(s1, u1i)\n",
    "t2 = d_dm(s2, u2i)\n",
    "c1 = d2_dm2(s1, u1i)\n",
    "c2 = d2_dm2(s2, u2i)\n",
    "\n",
    "assert d_dm(s1, u1i)   == approx(d_dm(c2_0, 0))\n",
    "assert d2_dm2(s1, u1i) == approx(d2_dm2(c2_0, 0))\n",
    "assert d_dm(s2, u2i)   == approx(d_dm(c2_0, du))\n",
    "assert d2_dm2(s2, u2i) == approx(d2_dm2(c2_0, du))\n"
   ]
  }
 ],
 "metadata": {
  "kernelspec": {
   "display_name": "dev-gbs",
   "language": "python",
   "name": "python3"
  },
  "language_info": {
   "codemirror_mode": {
    "name": "ipython",
    "version": 3
   },
   "file_extension": ".py",
   "mimetype": "text/x-python",
   "name": "python",
   "nbconvert_exporter": "python",
   "pygments_lexer": "ipython3",
   "version": "3.10.12"
  }
 },
 "nbformat": 4,
 "nbformat_minor": 2
}
