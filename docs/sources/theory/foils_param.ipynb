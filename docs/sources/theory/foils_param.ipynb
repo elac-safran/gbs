{
 "cells": [
  {
   "cell_type": "code",
   "execution_count": null,
   "metadata": {},
   "outputs": [],
   "source": [
    "import numpy as np\n",
    "\n",
    "def read_airfoil_data(filename):\n",
    "    with open(filename, 'r') as file:\n",
    "        lines = file.readlines()\n",
    "    \n",
    "    # Skip the header (first line in this case)\n",
    "    data_lines = lines[1:]\n",
    "\n",
    "    # Initialize two empty lists for x and y coordinates\n",
    "    x_data = []\n",
    "    y_data = []\n",
    "\n",
    "    # Parse each line\n",
    "    for line in data_lines:\n",
    "        parts = line.split()\n",
    "        if len(parts) == 2:\n",
    "            try:\n",
    "                # Convert strings to floats\n",
    "                x, y = float(parts[0]), float(parts[1])\n",
    "                # Append to respective lists\n",
    "                x_data.append(x)\n",
    "                y_data.append(y)\n",
    "            except ValueError:\n",
    "                # Handle the case where conversion to float fails\n",
    "                print(f\"Warning: Could not convert line to numbers: {line.strip()}\")\n",
    "                continue\n",
    "\n",
    "    # Convert the lists to NumPy arrays\n",
    "    return np.array(x_data), np.array(y_data)"
   ]
  },
  {
   "cell_type": "markdown",
   "metadata": {},
   "source": [
    "## Foil approximation with defaults parameters"
   ]
  },
  {
   "cell_type": "code",
   "execution_count": null,
   "metadata": {},
   "outputs": [],
   "source": [
    "from pygbs import gbs\n",
    "from pygbs import plotlyplot as gbp\n",
    "import plotly.graph_objects as go\n",
    "\n",
    "# filename = \"../../../tests/in/V43012.dat\"\n",
    "# filename = \"../../../tests/in/S810.dat\"\n",
    "# filename = \"../../../tests/in/e379.dat\"\n",
    "# filename = \"../../../tests/in/VR-7.dat\"\n",
    "# filename = \"../../../tests/in/SC-0518.dat\"\n",
    "# filename = \"../../../tests/in/e1098.dat\"\n",
    "filename = \"../../../tests/in/NACA-5-H-15.dat\"\n",
    "\n",
    "x, y = read_airfoil_data(filename)\n",
    "\n",
    "crv_2d = gbs.approx(pts=list(map(list, zip(x, y))), deg=5, d_max=1e-3, d_avg=1e-4)\n",
    "\n",
    "fig = gbp.plot_bs_curve_2d([crv_2d], ctrl_pts_on=True)\n",
    "\n",
    "fig.add_trace(\n",
    "    go.Scatter(\n",
    "        x = x,\n",
    "        y = y,\n",
    "        mode='markers',\n",
    "        marker_color='red'\n",
    "    )\n",
    ")\n",
    "\n",
    "fig.show()\n",
    "\n",
    "gbp.plot_curve_curvature(crv_2d).show()"
   ]
  },
  {
   "cell_type": "markdown",
   "metadata": {},
   "source": [
    "## Relaxing tolerance"
   ]
  },
  {
   "cell_type": "code",
   "execution_count": null,
   "metadata": {},
   "outputs": [],
   "source": [
    "crv_2d = gbs.approx(pts=list(map(list, zip(x, y))), deg=5, d_max=5e-3, d_avg=5e-4)\n",
    "\n",
    "fig = gbp.plot_bs_curve_2d(crv_2d, ctrl_pts_on=True)\n",
    "\n",
    "fig.add_trace(\n",
    "    go.Scatter(\n",
    "        x = x,\n",
    "        y = y,\n",
    "        mode='markers',\n",
    "        marker_color='red'\n",
    "    )\n",
    ")\n",
    "\n",
    "fig.show()\n",
    "\n",
    "gbp.plot_curve_curvature(crv_2d).show()"
   ]
  },
  {
   "cell_type": "markdown",
   "metadata": {},
   "source": [
    "## Strict matching on points"
   ]
  },
  {
   "cell_type": "code",
   "execution_count": null,
   "metadata": {},
   "outputs": [],
   "source": [
    "crv_2d = gbs.interpolate_cn(list(map(list, zip(x, y))), 5)\n",
    "\n",
    "fig = gbp.plot_bs_curve_2d(crv_2d, ctrl_pts_on=True)\n",
    "\n",
    "fig.add_trace(\n",
    "    go.Scatter(\n",
    "        x = x,\n",
    "        y = y,\n",
    "        mode='markers',\n",
    "        marker_color='red'\n",
    "    )\n",
    ")\n",
    "\n",
    "fig.show()\n",
    "\n",
    "gbp.plot_curve_curvature(crv_2d).show()"
   ]
  }
 ],
 "metadata": {
  "kernelspec": {
   "display_name": "dev-gbs",
   "language": "python",
   "name": "python3"
  },
  "language_info": {
   "codemirror_mode": {
    "name": "ipython",
    "version": 3
   },
   "file_extension": ".py",
   "mimetype": "text/x-python",
   "name": "python",
   "nbconvert_exporter": "python",
   "pygments_lexer": "ipython3",
   "version": "3.11.8"
  }
 },
 "nbformat": 4,
 "nbformat_minor": 2
}
